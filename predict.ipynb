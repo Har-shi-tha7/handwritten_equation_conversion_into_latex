{
 "cells": [
  {
   "cell_type": "code",
   "execution_count": null,
   "metadata": {},
   "outputs": [
    {
     "name": "stdout",
     "output_type": "stream",
     "text": [
      "1/1 [==============================] - 0s 58ms/step\n",
      "Predicted LaTeX Code: \\delta=b^2-4ac\n"
     ]
    }
   ],
   "source": [
    "import numpy as np\n",
    "import cv2\n",
    "import tensorflow as tf\n",
    "from sklearn.preprocessing import LabelEncoder\n",
    "\n",
    "# Define the label map\n",
    "label_map = {\n",
    "    'equation1': 'x^2',\n",
    "    'equation2': '\\\\sqrt{x}',\n",
    "    'equation3': '\\\\sqrt[3]{x}',\n",
    "    'equation4': '\\\\frac{x}{y}',\n",
    "    'equation5': '\\\\frac{1}{2}',\n",
    "    'equation6': 'ax+b=0',\n",
    "    'equation7': 'ax^2+bx+c=0',\n",
    "    'equation8': '\\\\delta=b^2-4ac',\n",
    "    'equation9': '(ab)^n=a^nb^n',\n",
    "    'equation10': '(a^m)^n=a^{mn}',\n",
    "}\n",
    "\n",
    "# Load the trained model\n",
    "model = tf.keras.models.load_model('handwritten_equation_model.h5')\n",
    "\n",
    "# Preprocess image to match training input shape\n",
    "def preprocess_image(img_path):\n",
    "    img = cv2.imread(img_path, cv2.IMREAD_GRAYSCALE)\n",
    "    img = cv2.resize(img, (128, 128))  # Resize to match the input size of the model\n",
    "    img = img / 255.0  # Normalize pixel values to [0, 1]\n",
    "    img = np.expand_dims(img, axis=-1)  # Add channel dimension\n",
    "    img = np.expand_dims(img, axis=0)  # Add batch dimension\n",
    "    return img\n",
    "\n",
    "# Label Encoder for consistent encoding/decoding\n",
    "label_encoder = LabelEncoder()\n",
    "label_encoder.fit(list(label_map.values()))  # Fit using LaTeX strings from label_map\n",
    "\n",
    "# Predict function\n",
    "def predict(img_path):\n",
    "    processed_image = preprocess_image(img_path)\n",
    "    prediction = model.predict(processed_image)\n",
    "    predicted_class_index = np.argmax(prediction, axis=1)[0]  # Get the index of the highest probability\n",
    "    predicted_label = label_encoder.inverse_transform([predicted_class_index])[0]  # Decode to LaTeX string\n",
    "    return predicted_label\n",
    "\n",
    "# Example usage\n",
    "if __name__ == '__main__':\n",
    "    img_path = r'C:\\Users\\Harshitha D\\OneDrive\\Desktop\\Kakracholi\\dataset\\data_prepared\\equation1\\equation1.png'  # Replace with your image path\n",
    "    latex_code = predict(img_path)\n",
    "    print(f'Predicted LaTeX Code: {latex_code}')\n",
    "\n",
    "\n"
   ]
  }
 ],
 "metadata": {
  "kernelspec": {
   "display_name": "Python 3",
   "language": "python",
   "name": "python3"
  },
  "language_info": {
   "codemirror_mode": {
    "name": "ipython",
    "version": 3
   },
   "file_extension": ".py",
   "mimetype": "text/x-python",
   "name": "python",
   "nbconvert_exporter": "python",
   "pygments_lexer": "ipython3",
   "version": "3.7.9"
  }
 },
 "nbformat": 4,
 "nbformat_minor": 2
}
